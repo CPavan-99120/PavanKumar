{
  "nbformat": 4,
  "nbformat_minor": 0,
  "metadata": {
    "colab": {
      "provenance": [],
      "authorship_tag": "ABX9TyMLR2eStfUOsPiKvAmx75AR",
      "include_colab_link": true
    },
    "kernelspec": {
      "name": "python3",
      "display_name": "Python 3"
    },
    "language_info": {
      "name": "python"
    }
  },
  "cells": [
    {
      "cell_type": "markdown",
      "metadata": {
        "id": "view-in-github",
        "colab_type": "text"
      },
      "source": [
        "<a href=\"https://colab.research.google.com/github/CPavan-99120/PavanKumar/blob/main/vtu28153_7.ipynb\" target=\"_parent\"><img src=\"https://colab.research.google.com/assets/colab-badge.svg\" alt=\"Open In Colab\"/></a>"
      ]
    },
    {
      "cell_type": "code",
      "execution_count": null,
      "metadata": {
        "id": "luLeMMM_Rt5w"
      },
      "outputs": [],
      "source": [
        "def find_discount(qty):\n",
        "    if qty <= 10:\n",
        "        return 0\n",
        "    elif 11 <= qty <= 20:\n",
        "        return 15\n",
        "    else:\n",
        "        return 20\n",
        "\n",
        "def buy():\n",
        "    ICode = int(input(\"Enter Item Code: \"))\n",
        "    Item = input(\"Enter Item Name: \")\n",
        "    Price = float(input(\"Enter Price: \"))\n",
        "    Qty = int(input(\"Enter Quantity: \"))\n",
        "    Discount = find_discount(Qty)\n",
        "    Netprice = Price * Qty - Discount\n",
        "    return ICode, Item, Price, Qty, Discount, Netprice\n",
        "\n",
        "def show_all(ICode, Item, Price, Qty, Discount, Netprice):\n",
        "    print(\"Item Code:\", ICode)\n",
        "    print(\"Item:\", Item)\n",
        "    print(\"Price:\", Price)\n",
        "    print(\"Quantity:\", Qty)\n",
        "    print(\"Discount:\", Discount)\n",
        "    print(\"Net Price:\", Netprice)\n",
        "\n",
        "ICode, Item, Price, Qty, Discount, Netprice = buy()\n",
        "show_all(ICode, Item, Price, Qty, Discount, Netprice)\n"
      ]
    },
    {
      "cell_type": "code",
      "source": [
        "def func_compute(n):\n",
        "    return lambda x: x * n\n",
        "\n",
        "result = func_compute(2)\n",
        "print(\"Double the number of 15 =\", result(15))\n",
        "\n",
        "result = func_compute(3)\n",
        "print(\"Triple the number of 15 =\", result(15))\n",
        "\n",
        "result = func_compute(4)\n",
        "print(\"Quadruple the number of 15 =\", result(15))\n",
        "\n",
        "result = func_compute(5)\n",
        "print(\"Quintuple the number 15 =\", result(15))\n",
        "\n",
        "\n"
      ],
      "metadata": {
        "id": "pUCQFo1NRyIU"
      },
      "execution_count": null,
      "outputs": []
    },
    {
      "cell_type": "code",
      "source": [
        "def categorize_tickets(ticket_ids):\n",
        "    adult_tickets = list(filter(lambda x: x % 2 == 0, ticket_ids))\n",
        "    child_tickets = list(filter(lambda x: x % 2 != 0, ticket_ids))\n",
        "    return adult_tickets, child_tickets\n",
        "\n",
        "ticket_ids = [101, 202, 305, 410, 513, 620, 723, 830, 945, 1050]\n",
        "adult_tickets, child_tickets = categorize_tickets(ticket_ids)\n",
        "print(\"Adult Tickets:\", adult_tickets)\n",
        "print(\"Child Tickets:\", child_tickets)\n"
      ],
      "metadata": {
        "id": "Gaaph6LrRyAz"
      },
      "execution_count": null,
      "outputs": []
    },
    {
      "cell_type": "code",
      "source": [],
      "metadata": {
        "id": "xdKgSGrARxzS"
      },
      "execution_count": null,
      "outputs": []
    }
  ]
}